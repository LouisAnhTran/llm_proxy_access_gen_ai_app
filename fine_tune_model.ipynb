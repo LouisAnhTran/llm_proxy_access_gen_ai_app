{
 "cells": [
  {
   "cell_type": "code",
   "execution_count": 102,
   "metadata": {},
   "outputs": [
    {
     "data": {
      "text/html": [
       "<div>\n",
       "<style scoped>\n",
       "    .dataframe tbody tr th:only-of-type {\n",
       "        vertical-align: middle;\n",
       "    }\n",
       "\n",
       "    .dataframe tbody tr th {\n",
       "        vertical-align: top;\n",
       "    }\n",
       "\n",
       "    .dataframe thead th {\n",
       "        text-align: right;\n",
       "    }\n",
       "</style>\n",
       "<table border=\"1\" class=\"dataframe\">\n",
       "  <thead>\n",
       "    <tr style=\"text-align: right;\">\n",
       "      <th></th>\n",
       "      <th>Prompt</th>\n",
       "      <th>Response</th>\n",
       "    </tr>\n",
       "  </thead>\n",
       "  <tbody>\n",
       "    <tr>\n",
       "      <th>0</th>\n",
       "      <td>What is the candidate name?</td>\n",
       "      <td>His full name is Tran Cong Nam Anh, but he is ...</td>\n",
       "    </tr>\n",
       "    <tr>\n",
       "      <th>1</th>\n",
       "      <td>Tell me fun fact about Louis?</td>\n",
       "      <td>Louis obtained a degree in Finance and Banking...</td>\n",
       "    </tr>\n",
       "    <tr>\n",
       "      <th>2</th>\n",
       "      <td>Which university does Louis or Tran Cong Nam A...</td>\n",
       "      <td>He/Louis is a third-year student majoring in C...</td>\n",
       "    </tr>\n",
       "    <tr>\n",
       "      <th>3</th>\n",
       "      <td>How many programming languages has Louis emplo...</td>\n",
       "      <td>He has utilized Java, Python, Ruby, JavaScript...</td>\n",
       "    </tr>\n",
       "    <tr>\n",
       "      <th>4</th>\n",
       "      <td>Please provide a list of the software developm...</td>\n",
       "      <td>Project Name: Missing Network Web Application ...</td>\n",
       "    </tr>\n",
       "    <tr>\n",
       "      <th>5</th>\n",
       "      <td>What were the job responsibilities that Louis ...</td>\n",
       "      <td>In his previous internship, Louis held the rol...</td>\n",
       "    </tr>\n",
       "    <tr>\n",
       "      <th>6</th>\n",
       "      <td>What is his current CGPA as well as his academ...</td>\n",
       "      <td>Louis's CGPA is 4.8/5, earning him the honor o...</td>\n",
       "    </tr>\n",
       "    <tr>\n",
       "      <th>7</th>\n",
       "      <td>What sports can Louis play  ?</td>\n",
       "      <td>Louis is proficient in both badminton and foot...</td>\n",
       "    </tr>\n",
       "    <tr>\n",
       "      <th>8</th>\n",
       "      <td>When is his birthday ?</td>\n",
       "      <td>Louis was born in 7th January, 1998. He is cur...</td>\n",
       "    </tr>\n",
       "    <tr>\n",
       "      <th>9</th>\n",
       "      <td>What is his  favorite football club and his fa...</td>\n",
       "      <td>Louis is the huge fan of Liverpool football cl...</td>\n",
       "    </tr>\n",
       "  </tbody>\n",
       "</table>\n",
       "</div>"
      ],
      "text/plain": [
       "                                              Prompt  \\\n",
       "0                        What is the candidate name?   \n",
       "1                      Tell me fun fact about Louis?   \n",
       "2  Which university does Louis or Tran Cong Nam A...   \n",
       "3  How many programming languages has Louis emplo...   \n",
       "4  Please provide a list of the software developm...   \n",
       "5  What were the job responsibilities that Louis ...   \n",
       "6  What is his current CGPA as well as his academ...   \n",
       "7                      What sports can Louis play  ?   \n",
       "8                             When is his birthday ?   \n",
       "9  What is his  favorite football club and his fa...   \n",
       "\n",
       "                                            Response  \n",
       "0  His full name is Tran Cong Nam Anh, but he is ...  \n",
       "1  Louis obtained a degree in Finance and Banking...  \n",
       "2  He/Louis is a third-year student majoring in C...  \n",
       "3  He has utilized Java, Python, Ruby, JavaScript...  \n",
       "4  Project Name: Missing Network Web Application ...  \n",
       "5  In his previous internship, Louis held the rol...  \n",
       "6  Louis's CGPA is 4.8/5, earning him the honor o...  \n",
       "7  Louis is proficient in both badminton and foot...  \n",
       "8  Louis was born in 7th January, 1998. He is cur...  \n",
       "9  Louis is the huge fan of Liverpool football cl...  "
      ]
     },
     "execution_count": 102,
     "metadata": {},
     "output_type": "execute_result"
    }
   ],
   "source": [
    "import openai \n",
    "import pandas as pd \n",
    "import os \n",
    "from dotenv import load_dotenv\n",
    "\n",
    "load_dotenv()\n",
    "\n",
    "df=pd.read_excel('training_data_set.xlsx')\n",
    "df"
   ]
  },
  {
   "cell_type": "code",
   "execution_count": 103,
   "metadata": {},
   "outputs": [],
   "source": [
    "system_prompt = \"You are an assistant that answers all questions related to the candidate Tran Cong Nam Anh, referred to as his full name, or Louis Anh Tran, as his short name. The questions can revolve around his education, background, working experiences, hobbies, leadership experiences, academic achievements, and so on.\"\n"
   ]
  },
  {
   "cell_type": "code",
   "execution_count": 104,
   "metadata": {},
   "outputs": [
    {
     "name": "stdout",
     "output_type": "stream",
     "text": [
      "[{'messages': [{'role': 'system', 'content': 'You are an assistant that answers all questions related to the candidate Tran Cong Nam Anh, referred to as his full name, or Louis Anh Tran, as his short name. The questions can revolve around his education, background, working experiences, hobbies, leadership experiences, academic achievements, and so on.'}, {'role': 'user', 'content': 'What is the candidate name?'}, {'role': 'assistant', 'content': 'His full name is Tran Cong Nam Anh, but he is commonly referred to as Louis. He is from Ho Chi Minh city, Vietnam. Currently, He is third year computer science student at SUTD, pursuing AI and Software engineering track. In this semester, he joined NUS, school of computing department as part of SUSEP program. \\n\\n\\n\\n\\n'}]}, {'messages': [{'role': 'system', 'content': 'You are an assistant that answers all questions related to the candidate Tran Cong Nam Anh, referred to as his full name, or Louis Anh Tran, as his short name. The questions can revolve around his education, background, working experiences, hobbies, leadership experiences, academic achievements, and so on.'}, {'role': 'user', 'content': 'Tell me fun fact about Louis?'}, {'role': 'assistant', 'content': \"Louis obtained a degree in Finance and Banking from the Australian Business School and has accumulated over a year of professional experience in the banking and risk consulting industry. He commenced his career as a Market Risk Analyst at Abbank, and after six months, he transitioned to the PwC South East Consulting team as a Market Risk Associate. In this role, he played a key part in the Citibank project, collaborating with teams from Citibank Australia, Citibank Singapore, and Citibank's tech team in India.\\n\\nLouis was a gifted student in mathematics during high school, and his most significant achievement was winning two medals in the Vietnam National Mathematics Olympics: a bronze medal in 2024 and a silver medal in 2015.\"}]}, {'messages': [{'role': 'system', 'content': 'You are an assistant that answers all questions related to the candidate Tran Cong Nam Anh, referred to as his full name, or Louis Anh Tran, as his short name. The questions can revolve around his education, background, working experiences, hobbies, leadership experiences, academic achievements, and so on.'}, {'role': 'user', 'content': 'Which university does Louis or Tran Cong Nam Anh or Nam Anh come from ?'}, {'role': 'assistant', 'content': 'He/Louis is a third-year student majoring in Computer Science at the Singapore University of Technology and Design. He is pursuing AI and Software engineering track. In this semester, he joined NUS, school of computing department as part of Singapore Local Universities Exchange program. \\n\\n\\n\\n\\n'}]}, {'messages': [{'role': 'system', 'content': 'You are an assistant that answers all questions related to the candidate Tran Cong Nam Anh, referred to as his full name, or Louis Anh Tran, as his short name. The questions can revolve around his education, background, working experiences, hobbies, leadership experiences, academic achievements, and so on.'}, {'role': 'user', 'content': 'How many programming languages has Louis employed in his projects?'}, {'role': 'assistant', 'content': 'He has utilized Java, Python, Ruby, JavaScript, and C extensively across various academic projects and internships'}]}, {'messages': [{'role': 'system', 'content': 'You are an assistant that answers all questions related to the candidate Tran Cong Nam Anh, referred to as his full name, or Louis Anh Tran, as his short name. The questions can revolve around his education, background, working experiences, hobbies, leadership experiences, academic achievements, and so on.'}, {'role': 'user', 'content': 'Please provide a list of the software development projects Louis completed and detail his roles in each of these projects.\\n\\n\\n\\n\\n'}, {'role': 'assistant', 'content': \"Project Name: Missing Network Web Application | Roles: Project Manager, Technical Lead, QA Engineer & Full Stack Developer\\n\\nProject repository: https://github.com/Service-Design-Studio/1d-final-project-2023-sds-2023-team-12/tree/main/features/step_definitions \\n\\nProject URL: https://missing-ni4vogis3a-as.a.run.app/\\n\\nLouis led a team of seven software developers in designing and developing a web application aimed at streamlining the process of locating missing individuals in Singapore through coordination of public and community efforts. This project involved collaboration and mentorship from SUTD SDS, Gebirah, and Google Cloud Singapore. He developed a scalable and functional software solution using various software methodologies and processes in compliance with industry standards, including BDD (Behavior Driven Development), TDD (Test Driven Development), Agile methodology, SOA (Service Oriented Architecture), Microservices, SaaS (Software as a Service), MVC design pattern, and Restful API. Additionally, responsibilities included system architecture design, database design, class diagram design, MVC pattern design, Restful API design, and hierarchical resource design for effective routing. Louis integrated AI/ML features using Google Vertex, Google NLP, Google Cloud Storage, and OpenAI technologies. Successfully deployed the application on the Google Cloud platform. Conducted rigorous unit testing, integration testing, and acceptance testing using Rspec, Capybara, Minitest, and Cucumber.\\n\\nProject name: Android Mobile Application | Roles: Project Manager, Technical Lead, and Full Stack Developer\\n\\nLouis led a team of seven software developers in creating a functional Android Mobile Application as part of the Smart Nation initiative. The goal was to streamline and simplify group project management for university students using Java, Android Studio, Google Firebase database, and Authentication. He took charge of system architecture, Firebase NoSQL database design, class diagram design, design patterns, as well as coding the core functionalities of the application. Implementing the Factory Design pattern, Louis enhanced the codebase structure and data management efficiency. He applied Java's advanced features and object-oriented programming (OOP) concepts, such as Encapsulation, Inheritance, Polymorphism, Abstraction, etc., both correctly and creatively to develop the application.\\n\\n\\nLegal Case Information Retrieval & Search Engine – CS3245 \\n\\nLouis led a team of 3 software developers to design and implement a robust, scalable, and efficient search engine from scratch in collaboration with Intellex, a company partially originating from NUS. The aim was to execute Free text and Boolean information retrieval queries on Legal cases provided by Intellex.\\n\\nThey implemented a scalable and robust indexing construction using a Single-pass in-memory indexing algorithm, Python's low-level functions for memory management and hard-disk data transmission, compression techniques for efficient space complexity, and skip pointer algorithms to enhance the speed of the search process.\\n\\nThe team constructed a robust search engine for efficient data retrieval from the hard disk, employing a combination of data structures including LinkedList, Queue, Stack, Hashtable, along with parsing of complex Boolean queries using the Shunting-yard algorithm.\"}]}, {'messages': [{'role': 'system', 'content': 'You are an assistant that answers all questions related to the candidate Tran Cong Nam Anh, referred to as his full name, or Louis Anh Tran, as his short name. The questions can revolve around his education, background, working experiences, hobbies, leadership experiences, academic achievements, and so on.'}, {'role': 'user', 'content': 'What were the job responsibilities that Louis undertook during his previous internship at SAP AI Labs Singapore with the AI Workbench team?\\n\\n\\n\\n\\n\\n'}, {'role': 'assistant', 'content': \"In his previous internship, Louis held the role of a Full Stack AI Developer at Singapore AI Labs, within the AI Workbench team. During this time:\\n\\n- He developed an LLM Proxy server to efficiently handle a large number of concurrent inference requests for both SAP’s self-hosted and open-source LLM models. Louis utilized Python and the FastAPI web framework for this purpose, ensuring robust asynchronous handling support. Additionally, he was responsible for the development, testing, and deployment of the LLM Proxy server on various platforms, including the local machine, Docker virtualized environment, and SAP's Kubernetes development cluster. The deployment process involved using Docker, Docker Network, Volume, Kubernetes, and Istio Virtual Services.\\n\\n- Louis conducted performance tests for LLM proxy servers created with Flask and FastAPI frameworks in both local environments and Kubernetes clusters. He utilized tools such as Postman and Port-forwarding for these tests. Furthermore, he developed and deployed a Python application into SAP's development Kubernetes cluster, simulating Postman functionality and conducting robust LLM proxy performance tests. This process required leveraging Istio Virtual Services for complex traffic routing, in addition to support from Asyncio and Aiohttp packages.\\n\\n- He implemented integration tests for SAP's AI Core and Runtime Adapter, aimed at testing the Container-as-a-Service feature for expired token scenarios. Louis also enabled LLM proxy tests with AI Core hosted models in the PR cluster using a mock LLM server.\\n\\n- Louis developed and deployed a mock server that mimicked LLM models with both non-streaming and streaming support. This served to facilitate development and performance testing processes. He collaborated with the GitOps repository and ArgoCD application to ensure seamless synchronization of the mock server from the code base to the Kubernetes cluster.\\n\\n- He implemented the proof of concept for the LiteLLM library by developing a clone of the AI Core LLM proxy using the LiteLLM library with streaming support. This included an advanced fallback mechanism for Circuit Breaker as well as a mock model for testing. Louis conducted tests in the Docker environment and deployed them to the Kubernetes cluster.\"}]}, {'messages': [{'role': 'system', 'content': 'You are an assistant that answers all questions related to the candidate Tran Cong Nam Anh, referred to as his full name, or Louis Anh Tran, as his short name. The questions can revolve around his education, background, working experiences, hobbies, leadership experiences, academic achievements, and so on.'}, {'role': 'user', 'content': 'What is his current CGPA as well as his academic achievements?'}, {'role': 'assistant', 'content': \"Louis's CGPA is 4.8/5, earning him the honor of being in the top 10% of the Computer Science batch at SUTD. More significantly, achieving a perfect 5.0/5.0 CGPA during his freshman terms, he was also recognized as part of the top 10% of the entire cohort and received the corresponding honors certificates from SUTD freshmore commitee and from Computer science department.\"}]}, {'messages': [{'role': 'system', 'content': 'You are an assistant that answers all questions related to the candidate Tran Cong Nam Anh, referred to as his full name, or Louis Anh Tran, as his short name. The questions can revolve around his education, background, working experiences, hobbies, leadership experiences, academic achievements, and so on.'}, {'role': 'user', 'content': 'What sports can Louis play  ?'}, {'role': 'assistant', 'content': \"Louis is proficient in both badminton and football. He enjoys playing a wide variety of sports, such as swimming, running, and volleyball, but he's only good at football and badminton. He believes there is no more effective way to unwind, recharge, stay fit, and maintain good health than playing sports.\"}]}, {'messages': [{'role': 'system', 'content': 'You are an assistant that answers all questions related to the candidate Tran Cong Nam Anh, referred to as his full name, or Louis Anh Tran, as his short name. The questions can revolve around his education, background, working experiences, hobbies, leadership experiences, academic achievements, and so on.'}, {'role': 'user', 'content': 'When is his birthday ?'}, {'role': 'assistant', 'content': 'Louis was born in 7th January, 1998. He is currently 26 years old. But he looks much older than his age actually ^^. '}]}, {'messages': [{'role': 'system', 'content': 'You are an assistant that answers all questions related to the candidate Tran Cong Nam Anh, referred to as his full name, or Louis Anh Tran, as his short name. The questions can revolve around his education, background, working experiences, hobbies, leadership experiences, academic achievements, and so on.'}, {'role': 'user', 'content': 'What is his  favorite football club and his favorite football player? '}, {'role': 'assistant', 'content': 'Louis is the huge fan of Liverpool football club since 2008, a famous football club from England and he admired Lionel Messi, who is considered as the greatest football players of all time. '}]}]\n"
     ]
    }
   ],
   "source": [
    "all_conversations=list()\n",
    "\n",
    "for idx,row in df.iterrows():\n",
    "    list_of_roles=[{\"role\":\"system\",\"content\":system_prompt},{\"role\":\"user\",\"content\":row['Prompt']},{\"role\":\"assistant\",\"content\":row['Response']}]\n",
    "    all_conversations.append({\"messages\":list_of_roles})\n",
    "\n",
    "print(all_conversations)"
   ]
  },
  {
   "cell_type": "code",
   "execution_count": 105,
   "metadata": {},
   "outputs": [],
   "source": [
    "import json\n",
    "\n",
    "with open('instances.jsonl','w') as f:\n",
    "    for conversation in all_conversations:\n",
    "        json.dump(conversation,f)\n",
    "        f.write('\\n')"
   ]
  },
  {
   "cell_type": "code",
   "execution_count": 106,
   "metadata": {},
   "outputs": [],
   "source": [
    "client=openai.OpenAI(api_key=os.getenv('OPENAI_API_KEY'))"
   ]
  },
  {
   "cell_type": "code",
   "execution_count": 107,
   "metadata": {},
   "outputs": [],
   "source": [
    "with open('instances.jsonl','rb') as f:\n",
    "  response=client.files.create(file=f,purpose=\"fine-tune\")"
   ]
  },
  {
   "cell_type": "code",
   "execution_count": 108,
   "metadata": {},
   "outputs": [
    {
     "name": "stdout",
     "output_type": "stream",
     "text": [
      "FileObject(id='file-mlRYCINxK9Sazavpvaf3GXp5', bytes=13110, created_at=1713897000, filename='instances.jsonl', object='file', purpose='fine-tune', status='processed', status_details=None)\n"
     ]
    }
   ],
   "source": [
    "print(response)"
   ]
  },
  {
   "cell_type": "code",
   "execution_count": 109,
   "metadata": {},
   "outputs": [
    {
     "name": "stdout",
     "output_type": "stream",
     "text": [
      "file-mlRYCINxK9Sazavpvaf3GXp5\n"
     ]
    }
   ],
   "source": [
    "print(response.id)"
   ]
  },
  {
   "cell_type": "code",
   "execution_count": 110,
   "metadata": {},
   "outputs": [],
   "source": [
    "file_id=response.id"
   ]
  },
  {
   "cell_type": "code",
   "execution_count": 112,
   "metadata": {},
   "outputs": [],
   "source": [
    "response=client.fine_tuning.jobs.create(\n",
    "  training_file=file_id, \n",
    "  model=\"gpt-3.5-turbo\"\n",
    ")"
   ]
  },
  {
   "cell_type": "code",
   "execution_count": 113,
   "metadata": {},
   "outputs": [
    {
     "name": "stdout",
     "output_type": "stream",
     "text": [
      "FineTuningJob(id='ftjob-KR0SnvNnDYoHpJFFITufIuM2', created_at=1713897024, error=Error(code=None, message=None, param=None, error=None), fine_tuned_model=None, finished_at=None, hyperparameters=Hyperparameters(n_epochs='auto', batch_size='auto', learning_rate_multiplier='auto'), model='gpt-3.5-turbo-0125', object='fine_tuning.job', organization_id='org-XQoG18cFDwdNAUfOwyUW2fPm', result_files=[], seed=1209080531, status='validating_files', trained_tokens=None, training_file='file-mlRYCINxK9Sazavpvaf3GXp5', validation_file=None, integrations=[], user_provided_suffix=None)\n"
     ]
    }
   ],
   "source": [
    "print(response)"
   ]
  },
  {
   "cell_type": "code",
   "execution_count": 114,
   "metadata": {},
   "outputs": [
    {
     "name": "stdout",
     "output_type": "stream",
     "text": [
      "ftjob-KR0SnvNnDYoHpJFFITufIuM2\n"
     ]
    }
   ],
   "source": [
    "print(response.id)"
   ]
  },
  {
   "cell_type": "code",
   "execution_count": 115,
   "metadata": {},
   "outputs": [],
   "source": [
    "job_id=response.id"
   ]
  },
  {
   "cell_type": "code",
   "execution_count": 137,
   "metadata": {},
   "outputs": [
    {
     "data": {
      "text/plain": [
       "FineTuningJob(id='ftjob-KR0SnvNnDYoHpJFFITufIuM2', created_at=1713897024, error=Error(code=None, message=None, param=None, error=None), fine_tuned_model='ft:gpt-3.5-turbo-0125:personal::9HFIKpx5', finished_at=1713897395, hyperparameters=Hyperparameters(n_epochs=10, batch_size=1, learning_rate_multiplier=2), model='gpt-3.5-turbo-0125', object='fine_tuning.job', organization_id='org-XQoG18cFDwdNAUfOwyUW2fPm', result_files=['file-zuVIqNhKxZxpCtC8RBh1MRGc'], seed=1209080531, status='succeeded', trained_tokens=24450, training_file='file-mlRYCINxK9Sazavpvaf3GXp5', validation_file=None, integrations=[], user_provided_suffix=None)"
      ]
     },
     "execution_count": 137,
     "metadata": {},
     "output_type": "execute_result"
    }
   ],
   "source": [
    "client.fine_tuning.jobs.retrieve(job_id)\n"
   ]
  },
  {
   "cell_type": "code",
   "execution_count": 138,
   "metadata": {},
   "outputs": [],
   "source": [
    "tuned_model_id='ft:gpt-3.5-turbo-0125:personal::9HFIKpx5'"
   ]
  },
  {
   "cell_type": "code",
   "execution_count": 143,
   "metadata": {},
   "outputs": [
    {
     "name": "stdout",
     "output_type": "stream",
     "text": [
      "Louis is proficient in Java, Python, and has some experience with JavaScript and C.\n"
     ]
    }
   ],
   "source": [
    "completion = client.chat.completions.create(\n",
    "  model=tuned_model_id,\n",
    "  messages=[\n",
    "    {\"role\": \"system\", \"content\": system_prompt},\n",
    "    {\"role\": \"user\", \"content\": \"What programming languages does he know?\"}\n",
    "  ]\n",
    ")\n",
    "print(completion.choices[0].message.content)"
   ]
  }
 ],
 "metadata": {
  "kernelspec": {
   "display_name": "Python 3",
   "language": "python",
   "name": "python3"
  },
  "language_info": {
   "codemirror_mode": {
    "name": "ipython",
    "version": 3
   },
   "file_extension": ".py",
   "mimetype": "text/x-python",
   "name": "python",
   "nbconvert_exporter": "python",
   "pygments_lexer": "ipython3",
   "version": "3.10.7"
  }
 },
 "nbformat": 4,
 "nbformat_minor": 2
}
